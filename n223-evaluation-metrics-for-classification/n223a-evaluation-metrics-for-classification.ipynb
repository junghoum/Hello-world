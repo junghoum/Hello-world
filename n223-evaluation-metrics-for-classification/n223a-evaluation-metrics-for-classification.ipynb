{
  "nbformat": 4,
  "nbformat_minor": 0,
  "metadata": {
    "kernelspec": {
      "display_name": "Python 3",
      "language": "python",
      "name": "python3"
    },
    "language_info": {
      "codemirror_mode": {
        "name": "ipython",
        "version": 3
      },
      "file_extension": ".py",
      "mimetype": "text/x-python",
      "name": "python",
      "nbconvert_exporter": "python",
      "pygments_lexer": "ipython3",
      "version": "3.7.7"
    },
    "colab": {
      "name": "n223a-evaluation-metrics-for-classification.ipynb",
      "provenance": [],
      "include_colab_link": true
    },
    "widgets": {
      "application/vnd.jupyter.widget-state+json": {
        "30a58bc4da9349d59d153f28482ca237": {
          "model_module": "@jupyter-widgets/controls",
          "model_name": "VBoxModel",
          "model_module_version": "1.5.0",
          "state": {
            "_view_name": "VBoxView",
            "_dom_classes": [
              "widget-interact"
            ],
            "_model_name": "VBoxModel",
            "_view_module": "@jupyter-widgets/controls",
            "_model_module_version": "1.5.0",
            "_view_count": null,
            "_view_module_version": "1.5.0",
            "box_style": "",
            "layout": "IPY_MODEL_e14b108995f5420794cb5091d2804d09",
            "_model_module": "@jupyter-widgets/controls",
            "children": [
              "IPY_MODEL_e2bafc68c7c14b0085e4bdff2584dcf7",
              "IPY_MODEL_424a891e8bea4d9fbff3fb6a3b657787"
            ]
          }
        },
        "e14b108995f5420794cb5091d2804d09": {
          "model_module": "@jupyter-widgets/base",
          "model_name": "LayoutModel",
          "model_module_version": "1.2.0",
          "state": {
            "_view_name": "LayoutView",
            "grid_template_rows": null,
            "right": null,
            "justify_content": null,
            "_view_module": "@jupyter-widgets/base",
            "overflow": null,
            "_model_module_version": "1.2.0",
            "_view_count": null,
            "flex_flow": null,
            "width": null,
            "min_width": null,
            "border": null,
            "align_items": null,
            "bottom": null,
            "_model_module": "@jupyter-widgets/base",
            "top": null,
            "grid_column": null,
            "overflow_y": null,
            "overflow_x": null,
            "grid_auto_flow": null,
            "grid_area": null,
            "grid_template_columns": null,
            "flex": null,
            "_model_name": "LayoutModel",
            "justify_items": null,
            "grid_row": null,
            "max_height": null,
            "align_content": null,
            "visibility": null,
            "align_self": null,
            "height": null,
            "min_height": null,
            "padding": null,
            "grid_auto_rows": null,
            "grid_gap": null,
            "max_width": null,
            "order": null,
            "_view_module_version": "1.2.0",
            "grid_template_areas": null,
            "object_position": null,
            "object_fit": null,
            "grid_auto_columns": null,
            "margin": null,
            "display": null,
            "left": null
          }
        },
        "e2bafc68c7c14b0085e4bdff2584dcf7": {
          "model_module": "@jupyter-widgets/controls",
          "model_name": "FloatSliderModel",
          "model_module_version": "1.5.0",
          "state": {
            "_view_name": "FloatSliderView",
            "style": "IPY_MODEL_6d80187017a74f6ea9db13e7426ba094",
            "_dom_classes": [],
            "description": "threshold",
            "step": 0.01,
            "_model_name": "FloatSliderModel",
            "orientation": "horizontal",
            "max": 1,
            "_view_module": "@jupyter-widgets/controls",
            "_model_module_version": "1.5.0",
            "value": 0.5,
            "_view_count": null,
            "disabled": false,
            "_view_module_version": "1.5.0",
            "min": 0,
            "continuous_update": true,
            "readout_format": ".2f",
            "description_tooltip": null,
            "readout": true,
            "_model_module": "@jupyter-widgets/controls",
            "layout": "IPY_MODEL_f64c0c58811a4a1ba191b34b8635ce0c"
          }
        },
        "424a891e8bea4d9fbff3fb6a3b657787": {
          "model_module": "@jupyter-widgets/output",
          "model_name": "OutputModel",
          "model_module_version": "1.0.0",
          "state": {
            "_view_name": "OutputView",
            "msg_id": "",
            "_dom_classes": [],
            "_model_name": "OutputModel",
            "outputs": [
              {
                "output_type": "stream",
                "name": "stderr",
                "text": [
                  "/usr/local/lib/python3.7/dist-packages/sklearn/utils/deprecation.py:87: FutureWarning: Function plot_confusion_matrix is deprecated; Function `plot_confusion_matrix` is deprecated in 1.0 and will be removed in 1.2. Use one of the class methods: ConfusionMatrixDisplay.from_predictions or ConfusionMatrixDisplay.from_estimator.\n",
                  "  warnings.warn(msg, category=FutureWarning)\n"
                ]
              },
              {
                "output_type": "display_data",
                "data": {
                  "image/png": "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\n",
                  "text/plain": "<Figure size 432x288 with 2 Axes>"
                },
                "metadata": {
                  "needs_background": "light"
                }
              },
              {
                "output_type": "stream",
                "name": "stdout",
                "text": [
                  "              precision    recall  f1-score   support\n",
                  "\n",
                  "           0       0.85      0.94      0.89      6416\n",
                  "           1       0.72      0.46      0.56      2015\n",
                  "\n",
                  "    accuracy                           0.83      8431\n",
                  "   macro avg       0.78      0.70      0.73      8431\n",
                  "weighted avg       0.82      0.83      0.81      8431\n",
                  "\n"
                ]
              }
            ],
            "_view_module": "@jupyter-widgets/output",
            "_model_module_version": "1.0.0",
            "_view_count": null,
            "_view_module_version": "1.0.0",
            "layout": "IPY_MODEL_8baa22b5bb214d8aa37545905a7f3cb1",
            "_model_module": "@jupyter-widgets/output"
          }
        },
        "6d80187017a74f6ea9db13e7426ba094": {
          "model_module": "@jupyter-widgets/controls",
          "model_name": "SliderStyleModel",
          "model_module_version": "1.5.0",
          "state": {
            "_view_name": "StyleView",
            "handle_color": null,
            "_model_name": "SliderStyleModel",
            "description_width": "",
            "_view_module": "@jupyter-widgets/base",
            "_model_module_version": "1.5.0",
            "_view_count": null,
            "_view_module_version": "1.2.0",
            "_model_module": "@jupyter-widgets/controls"
          }
        },
        "f64c0c58811a4a1ba191b34b8635ce0c": {
          "model_module": "@jupyter-widgets/base",
          "model_name": "LayoutModel",
          "model_module_version": "1.2.0",
          "state": {
            "_view_name": "LayoutView",
            "grid_template_rows": null,
            "right": null,
            "justify_content": null,
            "_view_module": "@jupyter-widgets/base",
            "overflow": null,
            "_model_module_version": "1.2.0",
            "_view_count": null,
            "flex_flow": null,
            "width": null,
            "min_width": null,
            "border": null,
            "align_items": null,
            "bottom": null,
            "_model_module": "@jupyter-widgets/base",
            "top": null,
            "grid_column": null,
            "overflow_y": null,
            "overflow_x": null,
            "grid_auto_flow": null,
            "grid_area": null,
            "grid_template_columns": null,
            "flex": null,
            "_model_name": "LayoutModel",
            "justify_items": null,
            "grid_row": null,
            "max_height": null,
            "align_content": null,
            "visibility": null,
            "align_self": null,
            "height": null,
            "min_height": null,
            "padding": null,
            "grid_auto_rows": null,
            "grid_gap": null,
            "max_width": null,
            "order": null,
            "_view_module_version": "1.2.0",
            "grid_template_areas": null,
            "object_position": null,
            "object_fit": null,
            "grid_auto_columns": null,
            "margin": null,
            "display": null,
            "left": null
          }
        },
        "8baa22b5bb214d8aa37545905a7f3cb1": {
          "model_module": "@jupyter-widgets/base",
          "model_name": "LayoutModel",
          "model_module_version": "1.2.0",
          "state": {
            "_view_name": "LayoutView",
            "grid_template_rows": null,
            "right": null,
            "justify_content": null,
            "_view_module": "@jupyter-widgets/base",
            "overflow": null,
            "_model_module_version": "1.2.0",
            "_view_count": null,
            "flex_flow": null,
            "width": null,
            "min_width": null,
            "border": null,
            "align_items": null,
            "bottom": null,
            "_model_module": "@jupyter-widgets/base",
            "top": null,
            "grid_column": null,
            "overflow_y": null,
            "overflow_x": null,
            "grid_auto_flow": null,
            "grid_area": null,
            "grid_template_columns": null,
            "flex": null,
            "_model_name": "LayoutModel",
            "justify_items": null,
            "grid_row": null,
            "max_height": null,
            "align_content": null,
            "visibility": null,
            "align_self": null,
            "height": null,
            "min_height": null,
            "padding": null,
            "grid_auto_rows": null,
            "grid_gap": null,
            "max_width": null,
            "order": null,
            "_view_module_version": "1.2.0",
            "grid_template_areas": null,
            "object_position": null,
            "object_fit": null,
            "grid_auto_columns": null,
            "margin": null,
            "display": null,
            "left": null
          }
        },
        "46b1dfc1098745859844e513439b9334": {
          "model_module": "@jupyter-widgets/controls",
          "model_name": "VBoxModel",
          "model_module_version": "1.5.0",
          "state": {
            "_view_name": "VBoxView",
            "_dom_classes": [
              "widget-interact"
            ],
            "_model_name": "VBoxModel",
            "_view_module": "@jupyter-widgets/controls",
            "_model_module_version": "1.5.0",
            "_view_count": null,
            "_view_module_version": "1.5.0",
            "box_style": "",
            "layout": "IPY_MODEL_98a9063cb9ab4583a8edea3582e8e076",
            "_model_module": "@jupyter-widgets/controls",
            "children": [
              "IPY_MODEL_f6641c9461f947398f7a52040e5d7d0c",
              "IPY_MODEL_e872f34aa1084603907f67be13e65df6"
            ]
          }
        },
        "98a9063cb9ab4583a8edea3582e8e076": {
          "model_module": "@jupyter-widgets/base",
          "model_name": "LayoutModel",
          "model_module_version": "1.2.0",
          "state": {
            "_view_name": "LayoutView",
            "grid_template_rows": null,
            "right": null,
            "justify_content": null,
            "_view_module": "@jupyter-widgets/base",
            "overflow": null,
            "_model_module_version": "1.2.0",
            "_view_count": null,
            "flex_flow": null,
            "width": null,
            "min_width": null,
            "border": null,
            "align_items": null,
            "bottom": null,
            "_model_module": "@jupyter-widgets/base",
            "top": null,
            "grid_column": null,
            "overflow_y": null,
            "overflow_x": null,
            "grid_auto_flow": null,
            "grid_area": null,
            "grid_template_columns": null,
            "flex": null,
            "_model_name": "LayoutModel",
            "justify_items": null,
            "grid_row": null,
            "max_height": null,
            "align_content": null,
            "visibility": null,
            "align_self": null,
            "height": null,
            "min_height": null,
            "padding": null,
            "grid_auto_rows": null,
            "grid_gap": null,
            "max_width": null,
            "order": null,
            "_view_module_version": "1.2.0",
            "grid_template_areas": null,
            "object_position": null,
            "object_fit": null,
            "grid_auto_columns": null,
            "margin": null,
            "display": null,
            "left": null
          }
        },
        "f6641c9461f947398f7a52040e5d7d0c": {
          "model_module": "@jupyter-widgets/controls",
          "model_name": "IntSliderModel",
          "model_module_version": "1.5.0",
          "state": {
            "_view_name": "IntSliderView",
            "style": "IPY_MODEL_a4d2f8c56a7f4182a1373d3dff0cbce0",
            "_dom_classes": [],
            "description": "n_estimators",
            "step": 1,
            "_model_name": "IntSliderModel",
            "orientation": "horizontal",
            "max": 3,
            "_view_module": "@jupyter-widgets/controls",
            "_model_module_version": "1.5.0",
            "value": 1,
            "_view_count": null,
            "disabled": false,
            "_view_module_version": "1.5.0",
            "min": -1,
            "continuous_update": true,
            "readout_format": "d",
            "description_tooltip": null,
            "readout": true,
            "_model_module": "@jupyter-widgets/controls",
            "layout": "IPY_MODEL_2d4ebf79eb8c42768c644f958912f8dc"
          }
        },
        "e872f34aa1084603907f67be13e65df6": {
          "model_module": "@jupyter-widgets/output",
          "model_name": "OutputModel",
          "model_module_version": "1.0.0",
          "state": {
            "_view_name": "OutputView",
            "msg_id": "",
            "_dom_classes": [],
            "_model_name": "OutputModel",
            "outputs": [
              {
                "output_type": "stream",
                "name": "stderr",
                "text": [
                  "/usr/local/lib/python3.7/dist-packages/sklearn/ensemble/_forest.py:554: UserWarning: Some inputs do not have OOB scores. This probably means too few trees were used to compute any reliable OOB estimates.\n",
                  "  UserWarning,\n"
                ]
              },
              {
                "output_type": "display_data",
                "data": {
                  "image/png": "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\n",
                  "text/plain": "<Figure size 360x360 with 1 Axes>"
                },
                "metadata": {
                  "needs_background": "light"
                }
              }
            ],
            "_view_module": "@jupyter-widgets/output",
            "_model_module_version": "1.0.0",
            "_view_count": null,
            "_view_module_version": "1.0.0",
            "layout": "IPY_MODEL_9e6c15fc4b264b04a63312759e16605d",
            "_model_module": "@jupyter-widgets/output"
          }
        },
        "a4d2f8c56a7f4182a1373d3dff0cbce0": {
          "model_module": "@jupyter-widgets/controls",
          "model_name": "SliderStyleModel",
          "model_module_version": "1.5.0",
          "state": {
            "_view_name": "StyleView",
            "handle_color": null,
            "_model_name": "SliderStyleModel",
            "description_width": "",
            "_view_module": "@jupyter-widgets/base",
            "_model_module_version": "1.5.0",
            "_view_count": null,
            "_view_module_version": "1.2.0",
            "_model_module": "@jupyter-widgets/controls"
          }
        },
        "2d4ebf79eb8c42768c644f958912f8dc": {
          "model_module": "@jupyter-widgets/base",
          "model_name": "LayoutModel",
          "model_module_version": "1.2.0",
          "state": {
            "_view_name": "LayoutView",
            "grid_template_rows": null,
            "right": null,
            "justify_content": null,
            "_view_module": "@jupyter-widgets/base",
            "overflow": null,
            "_model_module_version": "1.2.0",
            "_view_count": null,
            "flex_flow": null,
            "width": null,
            "min_width": null,
            "border": null,
            "align_items": null,
            "bottom": null,
            "_model_module": "@jupyter-widgets/base",
            "top": null,
            "grid_column": null,
            "overflow_y": null,
            "overflow_x": null,
            "grid_auto_flow": null,
            "grid_area": null,
            "grid_template_columns": null,
            "flex": null,
            "_model_name": "LayoutModel",
            "justify_items": null,
            "grid_row": null,
            "max_height": null,
            "align_content": null,
            "visibility": null,
            "align_self": null,
            "height": null,
            "min_height": null,
            "padding": null,
            "grid_auto_rows": null,
            "grid_gap": null,
            "max_width": null,
            "order": null,
            "_view_module_version": "1.2.0",
            "grid_template_areas": null,
            "object_position": null,
            "object_fit": null,
            "grid_auto_columns": null,
            "margin": null,
            "display": null,
            "left": null
          }
        },
        "9e6c15fc4b264b04a63312759e16605d": {
          "model_module": "@jupyter-widgets/base",
          "model_name": "LayoutModel",
          "model_module_version": "1.2.0",
          "state": {
            "_view_name": "LayoutView",
            "grid_template_rows": null,
            "right": null,
            "justify_content": null,
            "_view_module": "@jupyter-widgets/base",
            "overflow": null,
            "_model_module_version": "1.2.0",
            "_view_count": null,
            "flex_flow": null,
            "width": null,
            "min_width": null,
            "border": null,
            "align_items": null,
            "bottom": null,
            "_model_module": "@jupyter-widgets/base",
            "top": null,
            "grid_column": null,
            "overflow_y": null,
            "overflow_x": null,
            "grid_auto_flow": null,
            "grid_area": null,
            "grid_template_columns": null,
            "flex": null,
            "_model_name": "LayoutModel",
            "justify_items": null,
            "grid_row": null,
            "max_height": null,
            "align_content": null,
            "visibility": null,
            "align_self": null,
            "height": null,
            "min_height": null,
            "padding": null,
            "grid_auto_rows": null,
            "grid_gap": null,
            "max_width": null,
            "order": null,
            "_view_module_version": "1.2.0",
            "grid_template_areas": null,
            "object_position": null,
            "object_fit": null,
            "grid_auto_columns": null,
            "margin": null,
            "display": null,
            "left": null
          }
        },
        "bc507dcf22124037a3e2a040e1ce8d46": {
          "model_module": "@jupyter-widgets/controls",
          "model_name": "VBoxModel",
          "model_module_version": "1.5.0",
          "state": {
            "_view_name": "VBoxView",
            "_dom_classes": [
              "widget-interact"
            ],
            "_model_name": "VBoxModel",
            "_view_module": "@jupyter-widgets/controls",
            "_model_module_version": "1.5.0",
            "_view_count": null,
            "_view_module_version": "1.5.0",
            "box_style": "",
            "layout": "IPY_MODEL_e91994be95254902a8cc2bd18586ae72",
            "_model_module": "@jupyter-widgets/controls",
            "children": [
              "IPY_MODEL_6ea6507fe7d645eab7f67973e8adff92",
              "IPY_MODEL_e156172dfff54240b3a467bbf86ba59a"
            ]
          }
        },
        "e91994be95254902a8cc2bd18586ae72": {
          "model_module": "@jupyter-widgets/base",
          "model_name": "LayoutModel",
          "model_module_version": "1.2.0",
          "state": {
            "_view_name": "LayoutView",
            "grid_template_rows": null,
            "right": null,
            "justify_content": null,
            "_view_module": "@jupyter-widgets/base",
            "overflow": null,
            "_model_module_version": "1.2.0",
            "_view_count": null,
            "flex_flow": null,
            "width": null,
            "min_width": null,
            "border": null,
            "align_items": null,
            "bottom": null,
            "_model_module": "@jupyter-widgets/base",
            "top": null,
            "grid_column": null,
            "overflow_y": null,
            "overflow_x": null,
            "grid_auto_flow": null,
            "grid_area": null,
            "grid_template_columns": null,
            "flex": null,
            "_model_name": "LayoutModel",
            "justify_items": null,
            "grid_row": null,
            "max_height": null,
            "align_content": null,
            "visibility": null,
            "align_self": null,
            "height": null,
            "min_height": null,
            "padding": null,
            "grid_auto_rows": null,
            "grid_gap": null,
            "max_width": null,
            "order": null,
            "_view_module_version": "1.2.0",
            "grid_template_areas": null,
            "object_position": null,
            "object_fit": null,
            "grid_auto_columns": null,
            "margin": null,
            "display": null,
            "left": null
          }
        },
        "6ea6507fe7d645eab7f67973e8adff92": {
          "model_module": "@jupyter-widgets/controls",
          "model_name": "IntSliderModel",
          "model_module_version": "1.5.0",
          "state": {
            "_view_name": "IntSliderView",
            "style": "IPY_MODEL_d2c82fb64ebc49f088049840166b381c",
            "_dom_classes": [],
            "description": "n_estimators",
            "step": 1,
            "_model_name": "IntSliderModel",
            "orientation": "horizontal",
            "max": 30,
            "_view_module": "@jupyter-widgets/controls",
            "_model_module_version": "1.5.0",
            "value": 10,
            "_view_count": null,
            "disabled": false,
            "_view_module_version": "1.5.0",
            "min": -10,
            "continuous_update": true,
            "readout_format": "d",
            "description_tooltip": null,
            "readout": true,
            "_model_module": "@jupyter-widgets/controls",
            "layout": "IPY_MODEL_e9251b16699e41c38f3fdfd3f3a3b486"
          }
        },
        "e156172dfff54240b3a467bbf86ba59a": {
          "model_module": "@jupyter-widgets/output",
          "model_name": "OutputModel",
          "model_module_version": "1.0.0",
          "state": {
            "_view_name": "OutputView",
            "msg_id": "",
            "_dom_classes": [],
            "_model_name": "OutputModel",
            "outputs": [
              {
                "output_type": "stream",
                "name": "stderr",
                "text": [
                  "/usr/local/lib/python3.7/dist-packages/sklearn/ensemble/_forest.py:554: UserWarning: Some inputs do not have OOB scores. This probably means too few trees were used to compute any reliable OOB estimates.\n",
                  "  UserWarning,\n"
                ]
              },
              {
                "output_type": "display_data",
                "data": {
                  "image/png": "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\n",
                  "text/plain": "<Figure size 360x360 with 1 Axes>"
                },
                "metadata": {
                  "needs_background": "light"
                }
              }
            ],
            "_view_module": "@jupyter-widgets/output",
            "_model_module_version": "1.0.0",
            "_view_count": null,
            "_view_module_version": "1.0.0",
            "layout": "IPY_MODEL_5e6f65202b9b459db09a30ada2a0a06a",
            "_model_module": "@jupyter-widgets/output"
          }
        },
        "d2c82fb64ebc49f088049840166b381c": {
          "model_module": "@jupyter-widgets/controls",
          "model_name": "SliderStyleModel",
          "model_module_version": "1.5.0",
          "state": {
            "_view_name": "StyleView",
            "handle_color": null,
            "_model_name": "SliderStyleModel",
            "description_width": "",
            "_view_module": "@jupyter-widgets/base",
            "_model_module_version": "1.5.0",
            "_view_count": null,
            "_view_module_version": "1.2.0",
            "_model_module": "@jupyter-widgets/controls"
          }
        },
        "e9251b16699e41c38f3fdfd3f3a3b486": {
          "model_module": "@jupyter-widgets/base",
          "model_name": "LayoutModel",
          "model_module_version": "1.2.0",
          "state": {
            "_view_name": "LayoutView",
            "grid_template_rows": null,
            "right": null,
            "justify_content": null,
            "_view_module": "@jupyter-widgets/base",
            "overflow": null,
            "_model_module_version": "1.2.0",
            "_view_count": null,
            "flex_flow": null,
            "width": null,
            "min_width": null,
            "border": null,
            "align_items": null,
            "bottom": null,
            "_model_module": "@jupyter-widgets/base",
            "top": null,
            "grid_column": null,
            "overflow_y": null,
            "overflow_x": null,
            "grid_auto_flow": null,
            "grid_area": null,
            "grid_template_columns": null,
            "flex": null,
            "_model_name": "LayoutModel",
            "justify_items": null,
            "grid_row": null,
            "max_height": null,
            "align_content": null,
            "visibility": null,
            "align_self": null,
            "height": null,
            "min_height": null,
            "padding": null,
            "grid_auto_rows": null,
            "grid_gap": null,
            "max_width": null,
            "order": null,
            "_view_module_version": "1.2.0",
            "grid_template_areas": null,
            "object_position": null,
            "object_fit": null,
            "grid_auto_columns": null,
            "margin": null,
            "display": null,
            "left": null
          }
        },
        "5e6f65202b9b459db09a30ada2a0a06a": {
          "model_module": "@jupyter-widgets/base",
          "model_name": "LayoutModel",
          "model_module_version": "1.2.0",
          "state": {
            "_view_name": "LayoutView",
            "grid_template_rows": null,
            "right": null,
            "justify_content": null,
            "_view_module": "@jupyter-widgets/base",
            "overflow": null,
            "_model_module_version": "1.2.0",
            "_view_count": null,
            "flex_flow": null,
            "width": null,
            "min_width": null,
            "border": null,
            "align_items": null,
            "bottom": null,
            "_model_module": "@jupyter-widgets/base",
            "top": null,
            "grid_column": null,
            "overflow_y": null,
            "overflow_x": null,
            "grid_auto_flow": null,
            "grid_area": null,
            "grid_template_columns": null,
            "flex": null,
            "_model_name": "LayoutModel",
            "justify_items": null,
            "grid_row": null,
            "max_height": null,
            "align_content": null,
            "visibility": null,
            "align_self": null,
            "height": null,
            "min_height": null,
            "padding": null,
            "grid_auto_rows": null,
            "grid_gap": null,
            "max_width": null,
            "order": null,
            "_view_module_version": "1.2.0",
            "grid_template_areas": null,
            "object_position": null,
            "object_fit": null,
            "grid_auto_columns": null,
            "margin": null,
            "display": null,
            "left": null
          }
        },
        "783ce9333ed24a558ec2e1c18032fb22": {
          "model_module": "@jupyter-widgets/controls",
          "model_name": "VBoxModel",
          "model_module_version": "1.5.0",
          "state": {
            "_view_name": "VBoxView",
            "_dom_classes": [
              "widget-interact"
            ],
            "_model_name": "VBoxModel",
            "_view_module": "@jupyter-widgets/controls",
            "_model_module_version": "1.5.0",
            "_view_count": null,
            "_view_module_version": "1.5.0",
            "box_style": "",
            "layout": "IPY_MODEL_945a209ebfb14c9c935acf75d07adb19",
            "_model_module": "@jupyter-widgets/controls",
            "children": [
              "IPY_MODEL_c051be740832415085eccd26551dc1e6",
              "IPY_MODEL_b087db1fab194be7a00ddadfbecc0393"
            ]
          }
        },
        "945a209ebfb14c9c935acf75d07adb19": {
          "model_module": "@jupyter-widgets/base",
          "model_name": "LayoutModel",
          "model_module_version": "1.2.0",
          "state": {
            "_view_name": "LayoutView",
            "grid_template_rows": null,
            "right": null,
            "justify_content": null,
            "_view_module": "@jupyter-widgets/base",
            "overflow": null,
            "_model_module_version": "1.2.0",
            "_view_count": null,
            "flex_flow": null,
            "width": null,
            "min_width": null,
            "border": null,
            "align_items": null,
            "bottom": null,
            "_model_module": "@jupyter-widgets/base",
            "top": null,
            "grid_column": null,
            "overflow_y": null,
            "overflow_x": null,
            "grid_auto_flow": null,
            "grid_area": null,
            "grid_template_columns": null,
            "flex": null,
            "_model_name": "LayoutModel",
            "justify_items": null,
            "grid_row": null,
            "max_height": null,
            "align_content": null,
            "visibility": null,
            "align_self": null,
            "height": null,
            "min_height": null,
            "padding": null,
            "grid_auto_rows": null,
            "grid_gap": null,
            "max_width": null,
            "order": null,
            "_view_module_version": "1.2.0",
            "grid_template_areas": null,
            "object_position": null,
            "object_fit": null,
            "grid_auto_columns": null,
            "margin": null,
            "display": null,
            "left": null
          }
        },
        "c051be740832415085eccd26551dc1e6": {
          "model_module": "@jupyter-widgets/controls",
          "model_name": "IntSliderModel",
          "model_module_version": "1.5.0",
          "state": {
            "_view_name": "IntSliderView",
            "style": "IPY_MODEL_f115ead27f6b4043aa8bee18c62beb0e",
            "_dom_classes": [],
            "description": "n_estimators",
            "step": 1,
            "_model_name": "IntSliderModel",
            "orientation": "horizontal",
            "max": 300,
            "_view_module": "@jupyter-widgets/controls",
            "_model_module_version": "1.5.0",
            "value": 100,
            "_view_count": null,
            "disabled": false,
            "_view_module_version": "1.5.0",
            "min": -100,
            "continuous_update": true,
            "readout_format": "d",
            "description_tooltip": null,
            "readout": true,
            "_model_module": "@jupyter-widgets/controls",
            "layout": "IPY_MODEL_32c13919c95843258c88ef17f1e9fe74"
          }
        },
        "b087db1fab194be7a00ddadfbecc0393": {
          "model_module": "@jupyter-widgets/output",
          "model_name": "OutputModel",
          "model_module_version": "1.0.0",
          "state": {
            "_view_name": "OutputView",
            "msg_id": "",
            "_dom_classes": [],
            "_model_name": "OutputModel",
            "outputs": [
              {
                "output_type": "display_data",
                "data": {
                  "image/png": "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\n",
                  "text/plain": "<Figure size 360x360 with 1 Axes>"
                },
                "metadata": {
                  "needs_background": "light"
                }
              }
            ],
            "_view_module": "@jupyter-widgets/output",
            "_model_module_version": "1.0.0",
            "_view_count": null,
            "_view_module_version": "1.0.0",
            "layout": "IPY_MODEL_470660d4d6b44014850af0699a20cf11",
            "_model_module": "@jupyter-widgets/output"
          }
        },
        "f115ead27f6b4043aa8bee18c62beb0e": {
          "model_module": "@jupyter-widgets/controls",
          "model_name": "SliderStyleModel",
          "model_module_version": "1.5.0",
          "state": {
            "_view_name": "StyleView",
            "handle_color": null,
            "_model_name": "SliderStyleModel",
            "description_width": "",
            "_view_module": "@jupyter-widgets/base",
            "_model_module_version": "1.5.0",
            "_view_count": null,
            "_view_module_version": "1.2.0",
            "_model_module": "@jupyter-widgets/controls"
          }
        },
        "32c13919c95843258c88ef17f1e9fe74": {
          "model_module": "@jupyter-widgets/base",
          "model_name": "LayoutModel",
          "model_module_version": "1.2.0",
          "state": {
            "_view_name": "LayoutView",
            "grid_template_rows": null,
            "right": null,
            "justify_content": null,
            "_view_module": "@jupyter-widgets/base",
            "overflow": null,
            "_model_module_version": "1.2.0",
            "_view_count": null,
            "flex_flow": null,
            "width": null,
            "min_width": null,
            "border": null,
            "align_items": null,
            "bottom": null,
            "_model_module": "@jupyter-widgets/base",
            "top": null,
            "grid_column": null,
            "overflow_y": null,
            "overflow_x": null,
            "grid_auto_flow": null,
            "grid_area": null,
            "grid_template_columns": null,
            "flex": null,
            "_model_name": "LayoutModel",
            "justify_items": null,
            "grid_row": null,
            "max_height": null,
            "align_content": null,
            "visibility": null,
            "align_self": null,
            "height": null,
            "min_height": null,
            "padding": null,
            "grid_auto_rows": null,
            "grid_gap": null,
            "max_width": null,
            "order": null,
            "_view_module_version": "1.2.0",
            "grid_template_areas": null,
            "object_position": null,
            "object_fit": null,
            "grid_auto_columns": null,
            "margin": null,
            "display": null,
            "left": null
          }
        },
        "470660d4d6b44014850af0699a20cf11": {
          "model_module": "@jupyter-widgets/base",
          "model_name": "LayoutModel",
          "model_module_version": "1.2.0",
          "state": {
            "_view_name": "LayoutView",
            "grid_template_rows": null,
            "right": null,
            "justify_content": null,
            "_view_module": "@jupyter-widgets/base",
            "overflow": null,
            "_model_module_version": "1.2.0",
            "_view_count": null,
            "flex_flow": null,
            "width": null,
            "min_width": null,
            "border": null,
            "align_items": null,
            "bottom": null,
            "_model_module": "@jupyter-widgets/base",
            "top": null,
            "grid_column": null,
            "overflow_y": null,
            "overflow_x": null,
            "grid_auto_flow": null,
            "grid_area": null,
            "grid_template_columns": null,
            "flex": null,
            "_model_name": "LayoutModel",
            "justify_items": null,
            "grid_row": null,
            "max_height": null,
            "align_content": null,
            "visibility": null,
            "align_self": null,
            "height": null,
            "min_height": null,
            "padding": null,
            "grid_auto_rows": null,
            "grid_gap": null,
            "max_width": null,
            "order": null,
            "_view_module_version": "1.2.0",
            "grid_template_areas": null,
            "object_position": null,
            "object_fit": null,
            "grid_auto_columns": null,
            "margin": null,
            "display": null,
            "left": null
          }
        },
        "fd0b993434b74159b523195b460cb8d4": {
          "model_module": "@jupyter-widgets/controls",
          "model_name": "VBoxModel",
          "model_module_version": "1.5.0",
          "state": {
            "_view_name": "VBoxView",
            "_dom_classes": [
              "widget-interact"
            ],
            "_model_name": "VBoxModel",
            "_view_module": "@jupyter-widgets/controls",
            "_model_module_version": "1.5.0",
            "_view_count": null,
            "_view_module_version": "1.5.0",
            "box_style": "",
            "layout": "IPY_MODEL_ab085edbfd11412995d0684e20389ce1",
            "_model_module": "@jupyter-widgets/controls",
            "children": [
              "IPY_MODEL_c6c5665f961f4ebeac3d24736116c181",
              "IPY_MODEL_4758fc6b56db4a91b92f9299b7957ac6"
            ]
          }
        },
        "ab085edbfd11412995d0684e20389ce1": {
          "model_module": "@jupyter-widgets/base",
          "model_name": "LayoutModel",
          "model_module_version": "1.2.0",
          "state": {
            "_view_name": "LayoutView",
            "grid_template_rows": null,
            "right": null,
            "justify_content": null,
            "_view_module": "@jupyter-widgets/base",
            "overflow": null,
            "_model_module_version": "1.2.0",
            "_view_count": null,
            "flex_flow": null,
            "width": null,
            "min_width": null,
            "border": null,
            "align_items": null,
            "bottom": null,
            "_model_module": "@jupyter-widgets/base",
            "top": null,
            "grid_column": null,
            "overflow_y": null,
            "overflow_x": null,
            "grid_auto_flow": null,
            "grid_area": null,
            "grid_template_columns": null,
            "flex": null,
            "_model_name": "LayoutModel",
            "justify_items": null,
            "grid_row": null,
            "max_height": null,
            "align_content": null,
            "visibility": null,
            "align_self": null,
            "height": null,
            "min_height": null,
            "padding": null,
            "grid_auto_rows": null,
            "grid_gap": null,
            "max_width": null,
            "order": null,
            "_view_module_version": "1.2.0",
            "grid_template_areas": null,
            "object_position": null,
            "object_fit": null,
            "grid_auto_columns": null,
            "margin": null,
            "display": null,
            "left": null
          }
        },
        "c6c5665f961f4ebeac3d24736116c181": {
          "model_module": "@jupyter-widgets/controls",
          "model_name": "IntSliderModel",
          "model_module_version": "1.5.0",
          "state": {
            "_view_name": "IntSliderView",
            "style": "IPY_MODEL_f016796ef1a64d0b8a7a92d1ec6319c2",
            "_dom_classes": [],
            "description": "n_estimators",
            "step": 1,
            "_model_name": "IntSliderModel",
            "orientation": "horizontal",
            "max": 30000,
            "_view_module": "@jupyter-widgets/controls",
            "_model_module_version": "1.5.0",
            "value": 10000,
            "_view_count": null,
            "disabled": false,
            "_view_module_version": "1.5.0",
            "min": -10000,
            "continuous_update": true,
            "readout_format": "d",
            "description_tooltip": null,
            "readout": true,
            "_model_module": "@jupyter-widgets/controls",
            "layout": "IPY_MODEL_4df18c6c6fed423b81e331cc3753e9a4"
          }
        },
        "4758fc6b56db4a91b92f9299b7957ac6": {
          "model_module": "@jupyter-widgets/output",
          "model_name": "OutputModel",
          "model_module_version": "1.0.0",
          "state": {
            "_view_name": "OutputView",
            "msg_id": "",
            "_dom_classes": [],
            "_model_name": "OutputModel",
            "outputs": [
              {
                "output_type": "error",
                "ename": "KeyboardInterrupt",
                "evalue": "ignored",
                "traceback": [
                  "\u001b[0;31m---------------------------------------------------------------------------\u001b[0m",
                  "\u001b[0;31mKeyboardInterrupt\u001b[0m                         Traceback (most recent call last)",
                  "\u001b[0;32m/usr/local/lib/python3.7/dist-packages/ipywidgets/widgets/interaction.py\u001b[0m in \u001b[0;36mupdate\u001b[0;34m(self, *args)\u001b[0m\n\u001b[1;32m    255\u001b[0m                     \u001b[0mvalue\u001b[0m \u001b[0;34m=\u001b[0m \u001b[0mwidget\u001b[0m\u001b[0;34m.\u001b[0m\u001b[0mget_interact_value\u001b[0m\u001b[0;34m(\u001b[0m\u001b[0;34m)\u001b[0m\u001b[0;34m\u001b[0m\u001b[0;34m\u001b[0m\u001b[0m\n\u001b[1;32m    256\u001b[0m                     \u001b[0mself\u001b[0m\u001b[0;34m.\u001b[0m\u001b[0mkwargs\u001b[0m\u001b[0;34m[\u001b[0m\u001b[0mwidget\u001b[0m\u001b[0;34m.\u001b[0m\u001b[0m_kwarg\u001b[0m\u001b[0;34m]\u001b[0m \u001b[0;34m=\u001b[0m \u001b[0mvalue\u001b[0m\u001b[0;34m\u001b[0m\u001b[0;34m\u001b[0m\u001b[0m\n\u001b[0;32m--> 257\u001b[0;31m                 \u001b[0mself\u001b[0m\u001b[0;34m.\u001b[0m\u001b[0mresult\u001b[0m \u001b[0;34m=\u001b[0m \u001b[0mself\u001b[0m\u001b[0;34m.\u001b[0m\u001b[0mf\u001b[0m\u001b[0;34m(\u001b[0m\u001b[0;34m**\u001b[0m\u001b[0mself\u001b[0m\u001b[0;34m.\u001b[0m\u001b[0mkwargs\u001b[0m\u001b[0;34m)\u001b[0m\u001b[0;34m\u001b[0m\u001b[0;34m\u001b[0m\u001b[0m\n\u001b[0m\u001b[1;32m    258\u001b[0m                 \u001b[0mshow_inline_matplotlib_plots\u001b[0m\u001b[0;34m(\u001b[0m\u001b[0;34m)\u001b[0m\u001b[0;34m\u001b[0m\u001b[0;34m\u001b[0m\u001b[0m\n\u001b[1;32m    259\u001b[0m                 \u001b[0;32mif\u001b[0m \u001b[0mself\u001b[0m\u001b[0;34m.\u001b[0m\u001b[0mauto_display\u001b[0m \u001b[0;32mand\u001b[0m \u001b[0mself\u001b[0m\u001b[0;34m.\u001b[0m\u001b[0mresult\u001b[0m \u001b[0;32mis\u001b[0m \u001b[0;32mnot\u001b[0m \u001b[0;32mNone\u001b[0m\u001b[0;34m:\u001b[0m\u001b[0;34m\u001b[0m\u001b[0;34m\u001b[0m\u001b[0m\n",
                  "\u001b[0;32m<ipython-input-75-ff3b7fe1b94e>\u001b[0m in \u001b[0;36mctrl_estimator\u001b[0;34m(n_estimators)\u001b[0m\n\u001b[1;32m      8\u001b[0m   )\n\u001b[1;32m      9\u001b[0m \u001b[0;34m\u001b[0m\u001b[0m\n\u001b[0;32m---> 10\u001b[0;31m   \u001b[0mpipe\u001b[0m\u001b[0;34m.\u001b[0m\u001b[0mfit\u001b[0m\u001b[0;34m(\u001b[0m\u001b[0mX_train\u001b[0m\u001b[0;34m,\u001b[0m \u001b[0my_train\u001b[0m\u001b[0;34m)\u001b[0m\u001b[0;34m\u001b[0m\u001b[0;34m\u001b[0m\u001b[0m\n\u001b[0m\u001b[1;32m     11\u001b[0m \u001b[0;34m\u001b[0m\u001b[0m\n\u001b[1;32m     12\u001b[0m   \u001b[0my_pred_proba\u001b[0m \u001b[0;34m=\u001b[0m \u001b[0mpipe\u001b[0m\u001b[0;34m.\u001b[0m\u001b[0mpredict_proba\u001b[0m\u001b[0;34m(\u001b[0m\u001b[0mX_val\u001b[0m\u001b[0;34m)\u001b[0m\u001b[0;34m[\u001b[0m\u001b[0;34m:\u001b[0m\u001b[0;34m,\u001b[0m \u001b[0;36m1\u001b[0m\u001b[0;34m]\u001b[0m\u001b[0;34m\u001b[0m\u001b[0;34m\u001b[0m\u001b[0m\n",
                  "\u001b[0;32m/usr/local/lib/python3.7/dist-packages/sklearn/pipeline.py\u001b[0m in \u001b[0;36mfit\u001b[0;34m(self, X, y, **fit_params)\u001b[0m\n\u001b[1;32m    392\u001b[0m             \u001b[0;32mif\u001b[0m \u001b[0mself\u001b[0m\u001b[0;34m.\u001b[0m\u001b[0m_final_estimator\u001b[0m \u001b[0;34m!=\u001b[0m \u001b[0;34m\"passthrough\"\u001b[0m\u001b[0;34m:\u001b[0m\u001b[0;34m\u001b[0m\u001b[0;34m\u001b[0m\u001b[0m\n\u001b[1;32m    393\u001b[0m                 \u001b[0mfit_params_last_step\u001b[0m \u001b[0;34m=\u001b[0m \u001b[0mfit_params_steps\u001b[0m\u001b[0;34m[\u001b[0m\u001b[0mself\u001b[0m\u001b[0;34m.\u001b[0m\u001b[0msteps\u001b[0m\u001b[0;34m[\u001b[0m\u001b[0;34m-\u001b[0m\u001b[0;36m1\u001b[0m\u001b[0;34m]\u001b[0m\u001b[0;34m[\u001b[0m\u001b[0;36m0\u001b[0m\u001b[0;34m]\u001b[0m\u001b[0;34m]\u001b[0m\u001b[0;34m\u001b[0m\u001b[0;34m\u001b[0m\u001b[0m\n\u001b[0;32m--> 394\u001b[0;31m                 \u001b[0mself\u001b[0m\u001b[0;34m.\u001b[0m\u001b[0m_final_estimator\u001b[0m\u001b[0;34m.\u001b[0m\u001b[0mfit\u001b[0m\u001b[0;34m(\u001b[0m\u001b[0mXt\u001b[0m\u001b[0;34m,\u001b[0m \u001b[0my\u001b[0m\u001b[0;34m,\u001b[0m \u001b[0;34m**\u001b[0m\u001b[0mfit_params_last_step\u001b[0m\u001b[0;34m)\u001b[0m\u001b[0;34m\u001b[0m\u001b[0;34m\u001b[0m\u001b[0m\n\u001b[0m\u001b[1;32m    395\u001b[0m \u001b[0;34m\u001b[0m\u001b[0m\n\u001b[1;32m    396\u001b[0m         \u001b[0;32mreturn\u001b[0m \u001b[0mself\u001b[0m\u001b[0;34m\u001b[0m\u001b[0;34m\u001b[0m\u001b[0m\n",
                  "\u001b[0;32m/usr/local/lib/python3.7/dist-packages/sklearn/ensemble/_forest.py\u001b[0m in \u001b[0;36mfit\u001b[0;34m(self, X, y, sample_weight)\u001b[0m\n\u001b[1;32m    457\u001b[0m                     \u001b[0mn_samples_bootstrap\u001b[0m\u001b[0;34m=\u001b[0m\u001b[0mn_samples_bootstrap\u001b[0m\u001b[0;34m,\u001b[0m\u001b[0;34m\u001b[0m\u001b[0;34m\u001b[0m\u001b[0m\n\u001b[1;32m    458\u001b[0m                 )\n\u001b[0;32m--> 459\u001b[0;31m                 \u001b[0;32mfor\u001b[0m \u001b[0mi\u001b[0m\u001b[0;34m,\u001b[0m \u001b[0mt\u001b[0m \u001b[0;32min\u001b[0m \u001b[0menumerate\u001b[0m\u001b[0;34m(\u001b[0m\u001b[0mtrees\u001b[0m\u001b[0;34m)\u001b[0m\u001b[0;34m\u001b[0m\u001b[0;34m\u001b[0m\u001b[0m\n\u001b[0m\u001b[1;32m    460\u001b[0m             )\n\u001b[1;32m    461\u001b[0m \u001b[0;34m\u001b[0m\u001b[0m\n",
                  "\u001b[0;32m/usr/local/lib/python3.7/dist-packages/joblib/parallel.py\u001b[0m in \u001b[0;36m__call__\u001b[0;34m(self, iterable)\u001b[0m\n\u001b[1;32m   1052\u001b[0m \u001b[0;34m\u001b[0m\u001b[0m\n\u001b[1;32m   1053\u001b[0m             \u001b[0;32mwith\u001b[0m \u001b[0mself\u001b[0m\u001b[0;34m.\u001b[0m\u001b[0m_backend\u001b[0m\u001b[0;34m.\u001b[0m\u001b[0mretrieval_context\u001b[0m\u001b[0;34m(\u001b[0m\u001b[0;34m)\u001b[0m\u001b[0;34m:\u001b[0m\u001b[0;34m\u001b[0m\u001b[0;34m\u001b[0m\u001b[0m\n\u001b[0;32m-> 1054\u001b[0;31m                 \u001b[0mself\u001b[0m\u001b[0;34m.\u001b[0m\u001b[0mretrieve\u001b[0m\u001b[0;34m(\u001b[0m\u001b[0;34m)\u001b[0m\u001b[0;34m\u001b[0m\u001b[0;34m\u001b[0m\u001b[0m\n\u001b[0m\u001b[1;32m   1055\u001b[0m             \u001b[0;31m# Make sure that we get a last message telling us we are done\u001b[0m\u001b[0;34m\u001b[0m\u001b[0;34m\u001b[0m\u001b[0;34m\u001b[0m\u001b[0m\n\u001b[1;32m   1056\u001b[0m             \u001b[0melapsed_time\u001b[0m \u001b[0;34m=\u001b[0m \u001b[0mtime\u001b[0m\u001b[0;34m.\u001b[0m\u001b[0mtime\u001b[0m\u001b[0;34m(\u001b[0m\u001b[0;34m)\u001b[0m \u001b[0;34m-\u001b[0m \u001b[0mself\u001b[0m\u001b[0;34m.\u001b[0m\u001b[0m_start_time\u001b[0m\u001b[0;34m\u001b[0m\u001b[0;34m\u001b[0m\u001b[0m\n",
                  "\u001b[0;32m/usr/local/lib/python3.7/dist-packages/joblib/parallel.py\u001b[0m in \u001b[0;36mretrieve\u001b[0;34m(self)\u001b[0m\n\u001b[1;32m    931\u001b[0m             \u001b[0;32mtry\u001b[0m\u001b[0;34m:\u001b[0m\u001b[0;34m\u001b[0m\u001b[0;34m\u001b[0m\u001b[0m\n\u001b[1;32m    932\u001b[0m                 \u001b[0;32mif\u001b[0m \u001b[0mgetattr\u001b[0m\u001b[0;34m(\u001b[0m\u001b[0mself\u001b[0m\u001b[0;34m.\u001b[0m\u001b[0m_backend\u001b[0m\u001b[0;34m,\u001b[0m \u001b[0;34m'supports_timeout'\u001b[0m\u001b[0;34m,\u001b[0m \u001b[0;32mFalse\u001b[0m\u001b[0;34m)\u001b[0m\u001b[0;34m:\u001b[0m\u001b[0;34m\u001b[0m\u001b[0;34m\u001b[0m\u001b[0m\n\u001b[0;32m--> 933\u001b[0;31m                     \u001b[0mself\u001b[0m\u001b[0;34m.\u001b[0m\u001b[0m_output\u001b[0m\u001b[0;34m.\u001b[0m\u001b[0mextend\u001b[0m\u001b[0;34m(\u001b[0m\u001b[0mjob\u001b[0m\u001b[0;34m.\u001b[0m\u001b[0mget\u001b[0m\u001b[0;34m(\u001b[0m\u001b[0mtimeout\u001b[0m\u001b[0;34m=\u001b[0m\u001b[0mself\u001b[0m\u001b[0;34m.\u001b[0m\u001b[0mtimeout\u001b[0m\u001b[0;34m)\u001b[0m\u001b[0;34m)\u001b[0m\u001b[0;34m\u001b[0m\u001b[0;34m\u001b[0m\u001b[0m\n\u001b[0m\u001b[1;32m    934\u001b[0m                 \u001b[0;32melse\u001b[0m\u001b[0;34m:\u001b[0m\u001b[0;34m\u001b[0m\u001b[0;34m\u001b[0m\u001b[0m\n\u001b[1;32m    935\u001b[0m                     \u001b[0mself\u001b[0m\u001b[0;34m.\u001b[0m\u001b[0m_output\u001b[0m\u001b[0;34m.\u001b[0m\u001b[0mextend\u001b[0m\u001b[0;34m(\u001b[0m\u001b[0mjob\u001b[0m\u001b[0;34m.\u001b[0m\u001b[0mget\u001b[0m\u001b[0;34m(\u001b[0m\u001b[0;34m)\u001b[0m\u001b[0;34m)\u001b[0m\u001b[0;34m\u001b[0m\u001b[0;34m\u001b[0m\u001b[0m\n",
                  "\u001b[0;32m/usr/lib/python3.7/multiprocessing/pool.py\u001b[0m in \u001b[0;36mget\u001b[0;34m(self, timeout)\u001b[0m\n\u001b[1;32m    649\u001b[0m \u001b[0;34m\u001b[0m\u001b[0m\n\u001b[1;32m    650\u001b[0m     \u001b[0;32mdef\u001b[0m \u001b[0mget\u001b[0m\u001b[0;34m(\u001b[0m\u001b[0mself\u001b[0m\u001b[0;34m,\u001b[0m \u001b[0mtimeout\u001b[0m\u001b[0;34m=\u001b[0m\u001b[0;32mNone\u001b[0m\u001b[0;34m)\u001b[0m\u001b[0;34m:\u001b[0m\u001b[0;34m\u001b[0m\u001b[0;34m\u001b[0m\u001b[0m\n\u001b[0;32m--> 651\u001b[0;31m         \u001b[0mself\u001b[0m\u001b[0;34m.\u001b[0m\u001b[0mwait\u001b[0m\u001b[0;34m(\u001b[0m\u001b[0mtimeout\u001b[0m\u001b[0;34m)\u001b[0m\u001b[0;34m\u001b[0m\u001b[0;34m\u001b[0m\u001b[0m\n\u001b[0m\u001b[1;32m    652\u001b[0m         \u001b[0;32mif\u001b[0m \u001b[0;32mnot\u001b[0m \u001b[0mself\u001b[0m\u001b[0;34m.\u001b[0m\u001b[0mready\u001b[0m\u001b[0;34m(\u001b[0m\u001b[0;34m)\u001b[0m\u001b[0;34m:\u001b[0m\u001b[0;34m\u001b[0m\u001b[0;34m\u001b[0m\u001b[0m\n\u001b[1;32m    653\u001b[0m             \u001b[0;32mraise\u001b[0m \u001b[0mTimeoutError\u001b[0m\u001b[0;34m\u001b[0m\u001b[0;34m\u001b[0m\u001b[0m\n",
                  "\u001b[0;32m/usr/lib/python3.7/multiprocessing/pool.py\u001b[0m in \u001b[0;36mwait\u001b[0;34m(self, timeout)\u001b[0m\n\u001b[1;32m    646\u001b[0m \u001b[0;34m\u001b[0m\u001b[0m\n\u001b[1;32m    647\u001b[0m     \u001b[0;32mdef\u001b[0m \u001b[0mwait\u001b[0m\u001b[0;34m(\u001b[0m\u001b[0mself\u001b[0m\u001b[0;34m,\u001b[0m \u001b[0mtimeout\u001b[0m\u001b[0;34m=\u001b[0m\u001b[0;32mNone\u001b[0m\u001b[0;34m)\u001b[0m\u001b[0;34m:\u001b[0m\u001b[0;34m\u001b[0m\u001b[0;34m\u001b[0m\u001b[0m\n\u001b[0;32m--> 648\u001b[0;31m         \u001b[0mself\u001b[0m\u001b[0;34m.\u001b[0m\u001b[0m_event\u001b[0m\u001b[0;34m.\u001b[0m\u001b[0mwait\u001b[0m\u001b[0;34m(\u001b[0m\u001b[0mtimeout\u001b[0m\u001b[0;34m)\u001b[0m\u001b[0;34m\u001b[0m\u001b[0;34m\u001b[0m\u001b[0m\n\u001b[0m\u001b[1;32m    649\u001b[0m \u001b[0;34m\u001b[0m\u001b[0m\n\u001b[1;32m    650\u001b[0m     \u001b[0;32mdef\u001b[0m \u001b[0mget\u001b[0m\u001b[0;34m(\u001b[0m\u001b[0mself\u001b[0m\u001b[0;34m,\u001b[0m \u001b[0mtimeout\u001b[0m\u001b[0;34m=\u001b[0m\u001b[0;32mNone\u001b[0m\u001b[0;34m)\u001b[0m\u001b[0;34m:\u001b[0m\u001b[0;34m\u001b[0m\u001b[0;34m\u001b[0m\u001b[0m\n",
                  "\u001b[0;32m/usr/lib/python3.7/threading.py\u001b[0m in \u001b[0;36mwait\u001b[0;34m(self, timeout)\u001b[0m\n\u001b[1;32m    550\u001b[0m             \u001b[0msignaled\u001b[0m \u001b[0;34m=\u001b[0m \u001b[0mself\u001b[0m\u001b[0;34m.\u001b[0m\u001b[0m_flag\u001b[0m\u001b[0;34m\u001b[0m\u001b[0;34m\u001b[0m\u001b[0m\n\u001b[1;32m    551\u001b[0m             \u001b[0;32mif\u001b[0m \u001b[0;32mnot\u001b[0m \u001b[0msignaled\u001b[0m\u001b[0;34m:\u001b[0m\u001b[0;34m\u001b[0m\u001b[0;34m\u001b[0m\u001b[0m\n\u001b[0;32m--> 552\u001b[0;31m                 \u001b[0msignaled\u001b[0m \u001b[0;34m=\u001b[0m \u001b[0mself\u001b[0m\u001b[0;34m.\u001b[0m\u001b[0m_cond\u001b[0m\u001b[0;34m.\u001b[0m\u001b[0mwait\u001b[0m\u001b[0;34m(\u001b[0m\u001b[0mtimeout\u001b[0m\u001b[0;34m)\u001b[0m\u001b[0;34m\u001b[0m\u001b[0;34m\u001b[0m\u001b[0m\n\u001b[0m\u001b[1;32m    553\u001b[0m             \u001b[0;32mreturn\u001b[0m \u001b[0msignaled\u001b[0m\u001b[0;34m\u001b[0m\u001b[0;34m\u001b[0m\u001b[0m\n\u001b[1;32m    554\u001b[0m \u001b[0;34m\u001b[0m\u001b[0m\n",
                  "\u001b[0;32m/usr/lib/python3.7/threading.py\u001b[0m in \u001b[0;36mwait\u001b[0;34m(self, timeout)\u001b[0m\n\u001b[1;32m    294\u001b[0m         \u001b[0;32mtry\u001b[0m\u001b[0;34m:\u001b[0m    \u001b[0;31m# restore state no matter what (e.g., KeyboardInterrupt)\u001b[0m\u001b[0;34m\u001b[0m\u001b[0;34m\u001b[0m\u001b[0m\n\u001b[1;32m    295\u001b[0m             \u001b[0;32mif\u001b[0m \u001b[0mtimeout\u001b[0m \u001b[0;32mis\u001b[0m \u001b[0;32mNone\u001b[0m\u001b[0;34m:\u001b[0m\u001b[0;34m\u001b[0m\u001b[0;34m\u001b[0m\u001b[0m\n\u001b[0;32m--> 296\u001b[0;31m                 \u001b[0mwaiter\u001b[0m\u001b[0;34m.\u001b[0m\u001b[0macquire\u001b[0m\u001b[0;34m(\u001b[0m\u001b[0;34m)\u001b[0m\u001b[0;34m\u001b[0m\u001b[0;34m\u001b[0m\u001b[0m\n\u001b[0m\u001b[1;32m    297\u001b[0m                 \u001b[0mgotit\u001b[0m \u001b[0;34m=\u001b[0m \u001b[0;32mTrue\u001b[0m\u001b[0;34m\u001b[0m\u001b[0;34m\u001b[0m\u001b[0m\n\u001b[1;32m    298\u001b[0m             \u001b[0;32melse\u001b[0m\u001b[0;34m:\u001b[0m\u001b[0;34m\u001b[0m\u001b[0;34m\u001b[0m\u001b[0m\n",
                  "\u001b[0;31mKeyboardInterrupt\u001b[0m: "
                ]
              }
            ],
            "_view_module": "@jupyter-widgets/output",
            "_model_module_version": "1.0.0",
            "_view_count": null,
            "_view_module_version": "1.0.0",
            "layout": "IPY_MODEL_97aa13302cd94345a32d3278c4b4cfa0",
            "_model_module": "@jupyter-widgets/output"
          }
        },
        "f016796ef1a64d0b8a7a92d1ec6319c2": {
          "model_module": "@jupyter-widgets/controls",
          "model_name": "SliderStyleModel",
          "model_module_version": "1.5.0",
          "state": {
            "_view_name": "StyleView",
            "handle_color": null,
            "_model_name": "SliderStyleModel",
            "description_width": "",
            "_view_module": "@jupyter-widgets/base",
            "_model_module_version": "1.5.0",
            "_view_count": null,
            "_view_module_version": "1.2.0",
            "_model_module": "@jupyter-widgets/controls"
          }
        },
        "4df18c6c6fed423b81e331cc3753e9a4": {
          "model_module": "@jupyter-widgets/base",
          "model_name": "LayoutModel",
          "model_module_version": "1.2.0",
          "state": {
            "_view_name": "LayoutView",
            "grid_template_rows": null,
            "right": null,
            "justify_content": null,
            "_view_module": "@jupyter-widgets/base",
            "overflow": null,
            "_model_module_version": "1.2.0",
            "_view_count": null,
            "flex_flow": null,
            "width": null,
            "min_width": null,
            "border": null,
            "align_items": null,
            "bottom": null,
            "_model_module": "@jupyter-widgets/base",
            "top": null,
            "grid_column": null,
            "overflow_y": null,
            "overflow_x": null,
            "grid_auto_flow": null,
            "grid_area": null,
            "grid_template_columns": null,
            "flex": null,
            "_model_name": "LayoutModel",
            "justify_items": null,
            "grid_row": null,
            "max_height": null,
            "align_content": null,
            "visibility": null,
            "align_self": null,
            "height": null,
            "min_height": null,
            "padding": null,
            "grid_auto_rows": null,
            "grid_gap": null,
            "max_width": null,
            "order": null,
            "_view_module_version": "1.2.0",
            "grid_template_areas": null,
            "object_position": null,
            "object_fit": null,
            "grid_auto_columns": null,
            "margin": null,
            "display": null,
            "left": null
          }
        },
        "97aa13302cd94345a32d3278c4b4cfa0": {
          "model_module": "@jupyter-widgets/base",
          "model_name": "LayoutModel",
          "model_module_version": "1.2.0",
          "state": {
            "_view_name": "LayoutView",
            "grid_template_rows": null,
            "right": null,
            "justify_content": null,
            "_view_module": "@jupyter-widgets/base",
            "overflow": null,
            "_model_module_version": "1.2.0",
            "_view_count": null,
            "flex_flow": null,
            "width": null,
            "min_width": null,
            "border": null,
            "align_items": null,
            "bottom": null,
            "_model_module": "@jupyter-widgets/base",
            "top": null,
            "grid_column": null,
            "overflow_y": null,
            "overflow_x": null,
            "grid_auto_flow": null,
            "grid_area": null,
            "grid_template_columns": null,
            "flex": null,
            "_model_name": "LayoutModel",
            "justify_items": null,
            "grid_row": null,
            "max_height": null,
            "align_content": null,
            "visibility": null,
            "align_self": null,
            "height": null,
            "min_height": null,
            "padding": null,
            "grid_auto_rows": null,
            "grid_gap": null,
            "max_width": null,
            "order": null,
            "_view_module_version": "1.2.0",
            "grid_template_areas": null,
            "object_position": null,
            "object_fit": null,
            "grid_auto_columns": null,
            "margin": null,
            "display": null,
            "left": null
          }
        }
      }
    }
  },
  "cells": [
    {
      "cell_type": "markdown",
      "metadata": {
        "id": "view-in-github",
        "colab_type": "text"
      },
      "source": [
        "<a href=\"https://colab.research.google.com/github/junghoum/Hello-world/blob/main/n223-evaluation-metrics-for-classification/n223a-evaluation-metrics-for-classification.ipynb\" target=\"_parent\"><img src=\"https://colab.research.google.com/assets/colab-badge.svg\" alt=\"Open In Colab\"/></a>"
      ]
    },
    {
      "cell_type": "markdown",
      "metadata": {
        "id": "yuWg4LDyoeB8"
      },
      "source": [
        "<img align=\"right\" src=\"https://ds-cs-images.s3.ap-northeast-2.amazonaws.com/Codestates_Fulllogo_Color.png\" width=100>\n",
        "\n",
        "## *AIB / SECTION 2 / SPRINT 2 / NOTE 3*\n",
        "\n",
        "# 📝 Assignment\n",
        "---"
      ]
    },
    {
      "cell_type": "markdown",
      "metadata": {
        "id": "nCc3XZEyG3XV"
      },
      "source": [
        "# Evaluation Metrics for Classification\n",
        "\n",
        "### 1) Kaggle 챌린지를 이어서 진행합니다.\n",
        "- **다음 조건에서 F beta score를 구하고 제출하세요.**\n",
        "    - TP = 4442, TN = 6165, FP = 1515, FN = 1930, 재현율에 정밀도의 2배 가중치를 부여합니다."
      ]
    },
    {
      "cell_type": "code",
      "metadata": {
        "id": "xeWcTj4GRywW"
      },
      "source": [
        "tp = 4442\n",
        "tn = 6165\n",
        "fp = 1515\n",
        "fn = 1930\n",
        "total = tp + tn + fp + fn \n"
      ],
      "execution_count": 50,
      "outputs": []
    },
    {
      "cell_type": "code",
      "metadata": {
        "colab": {
          "base_uri": "https://localhost:8080/"
        },
        "id": "wRr6OX5sUAvI",
        "outputId": "737e57bd-7990-4657-cdf6-46ed06ee2433"
      },
      "source": [
        "positives = tp + fp\n",
        "precision = tp/positives\n",
        "#정밀도\n",
        "precision"
      ],
      "execution_count": 60,
      "outputs": [
        {
          "output_type": "execute_result",
          "data": {
            "text/plain": [
              "0.7456773543730065"
            ]
          },
          "metadata": {},
          "execution_count": 60
        }
      ]
    },
    {
      "cell_type": "code",
      "metadata": {
        "colab": {
          "base_uri": "https://localhost:8080/"
        },
        "id": "9bFmrak3UAx7",
        "outputId": "a1e07cb1-fa30-48b0-f7d1-09b3e9a8998f"
      },
      "source": [
        "real_positives = tp + fn\n",
        "recall = tp / real_positives\n",
        "#재현율\n",
        "recall"
      ],
      "execution_count": 61,
      "outputs": [
        {
          "output_type": "execute_result",
          "data": {
            "text/plain": [
              "0.697112366603892"
            ]
          },
          "metadata": {},
          "execution_count": 61
        }
      ]
    },
    {
      "cell_type": "code",
      "metadata": {
        "id": "G7SbeY1JUA2C"
      },
      "source": [
        "def my_fbeta_score(precision, recall, beta=1.0):\n",
        "  return(1.0 + (beta**2)) * (precision * recall) / (((beta**2) * precision) + recall)"
      ],
      "execution_count": 63,
      "outputs": []
    },
    {
      "cell_type": "code",
      "metadata": {
        "colab": {
          "base_uri": "https://localhost:8080/"
        },
        "id": "PyfVsZTMUA4x",
        "outputId": "5df44fed-11a3-4c94-9f43-30dbdc6cfde8"
      },
      "source": [
        "beta=2\n",
        "\n",
        "print('f beta score: ', my_fbeta_score(precision, recall, beta))"
      ],
      "execution_count": 66,
      "outputs": [
        {
          "output_type": "stream",
          "name": "stdout",
          "text": [
            "f beta score:  0.7063126093178566\n"
          ]
        }
      ]
    },
    {
      "cell_type": "code",
      "metadata": {
        "id": "EOLPu0kXZEW6"
      },
      "source": [
        ""
      ],
      "execution_count": null,
      "outputs": []
    },
    {
      "cell_type": "code",
      "metadata": {
        "id": "VX9i-Du_ZEeG"
      },
      "source": [
        ""
      ],
      "execution_count": null,
      "outputs": []
    },
    {
      "cell_type": "code",
      "metadata": {
        "id": "yX6DFrwxoeB-"
      },
      "source": [
        "import pandas as pd\n",
        "import numpy as np\n",
        "from sklearn.model_selection import train_test_split\n",
        "\n",
        "from sklearn.impute import SimpleImputer\n",
        "from sklearn.pipeline import make_pipeline\n",
        "from sklearn.ensemble import RandomForestClassifier\n",
        "from sklearn.metrics import accuracy_score\n",
        "\n",
        "target = 'vacc_h1n1_f'\n",
        "# target = 'vacc_seas_f'\n",
        "train = pd.merge(pd.read_csv('https://ds-lecture-data.s3.ap-northeast-2.amazonaws.com/vacc_flu/train.csv'), \n",
        "                 pd.read_csv('https://ds-lecture-data.s3.ap-northeast-2.amazonaws.com/vacc_flu/train_labels.csv')[target], left_index=True, right_index=True)\n",
        "test = pd.read_csv('https://ds-lecture-data.s3.ap-northeast-2.amazonaws.com/vacc_flu/test.csv')\n",
        "sample_submission = pd.read_csv('https://ds-lecture-data.s3.ap-northeast-2.amazonaws.com/vacc_flu/submission.csv')"
      ],
      "execution_count": 1,
      "outputs": []
    },
    {
      "cell_type": "code",
      "metadata": {
        "colab": {
          "base_uri": "https://localhost:8080/"
        },
        "id": "CDnGbLS_1BRR",
        "outputId": "d1952386-d552-4371-a962-b410015e8cb0"
      },
      "source": [
        "from sklearn.model_selection import train_test_split\n",
        "\n",
        "train, val = train_test_split(train, train_size=0.80, test_size=0.20, \n",
        "                              stratify=train[target], random_state=2)\n",
        "\n",
        "\n",
        "train.shape, val.shape, test.shape"
      ],
      "execution_count": 2,
      "outputs": [
        {
          "output_type": "execute_result",
          "data": {
            "text/plain": [
              "((33723, 39), (8431, 39), (28104, 38))"
            ]
          },
          "metadata": {},
          "execution_count": 2
        }
      ]
    },
    {
      "cell_type": "code",
      "metadata": {
        "id": "avK69opV1BTx"
      },
      "source": [
        "def engineer(df):\n",
        "  behaviorals = [col for col in df.columns if 'behavioral' in col]\n",
        "  df['behaviorals'] = df[behaviorals].sum(axis=1)\n",
        "\n",
        "  dels = [col for col in df.columns if ('employment' in col or 'seas' in col)]\n",
        "\n",
        "  return df\n",
        "\n",
        "train = engineer(train)\n",
        "val = engineer(val)\n",
        "test = engineer(test)"
      ],
      "execution_count": 3,
      "outputs": []
    },
    {
      "cell_type": "code",
      "metadata": {
        "id": "RrJ9Za2_1BVn"
      },
      "source": [
        "features = train.drop(columns=[target]).columns\n",
        "\n",
        "X_train = train[features]\n",
        "y_train = train[target]\n",
        "X_val = val[features]\n",
        "y_val = val[target]\n",
        "X_test = test[features]"
      ],
      "execution_count": 4,
      "outputs": []
    },
    {
      "cell_type": "code",
      "metadata": {
        "colab": {
          "base_uri": "https://localhost:8080/"
        },
        "id": "ot9I4KaJKEa_",
        "outputId": "62f735bc-06aa-4989-ba17-c16138b0ea4b"
      },
      "source": [
        "! pip install --upgrade category_encoders\n",
        "\n"
      ],
      "execution_count": 5,
      "outputs": [
        {
          "output_type": "stream",
          "name": "stdout",
          "text": [
            "Requirement already satisfied: category_encoders in /usr/local/lib/python3.7/dist-packages (2.3.0)\n",
            "Requirement already satisfied: scikit-learn>=0.20.0 in /usr/local/lib/python3.7/dist-packages (from category_encoders) (1.0.1)\n",
            "Requirement already satisfied: pandas>=0.21.1 in /usr/local/lib/python3.7/dist-packages (from category_encoders) (1.1.5)\n",
            "Requirement already satisfied: numpy>=1.14.0 in /usr/local/lib/python3.7/dist-packages (from category_encoders) (1.19.5)\n",
            "Requirement already satisfied: statsmodels>=0.9.0 in /usr/local/lib/python3.7/dist-packages (from category_encoders) (0.10.2)\n",
            "Requirement already satisfied: patsy>=0.5.1 in /usr/local/lib/python3.7/dist-packages (from category_encoders) (0.5.2)\n",
            "Requirement already satisfied: scipy>=1.0.0 in /usr/local/lib/python3.7/dist-packages (from category_encoders) (1.7.1)\n",
            "Requirement already satisfied: pytz>=2017.2 in /usr/local/lib/python3.7/dist-packages (from pandas>=0.21.1->category_encoders) (2018.9)\n",
            "Requirement already satisfied: python-dateutil>=2.7.3 in /usr/local/lib/python3.7/dist-packages (from pandas>=0.21.1->category_encoders) (2.8.2)\n",
            "Requirement already satisfied: six in /usr/local/lib/python3.7/dist-packages (from patsy>=0.5.1->category_encoders) (1.15.0)\n",
            "Requirement already satisfied: threadpoolctl>=2.0.0 in /usr/local/lib/python3.7/dist-packages (from scikit-learn>=0.20.0->category_encoders) (3.0.0)\n",
            "Requirement already satisfied: joblib>=0.11 in /usr/local/lib/python3.7/dist-packages (from scikit-learn>=0.20.0->category_encoders) (1.0.1)\n"
          ]
        }
      ]
    },
    {
      "cell_type": "code",
      "metadata": {
        "colab": {
          "base_uri": "https://localhost:8080/"
        },
        "id": "SmNNrG5_1BYF",
        "outputId": "a2103b36-3f67-425d-ea06-b2d11b65ff6e"
      },
      "source": [
        "from sklearn.pipeline import make_pipeline\n",
        "from category_encoders import OrdinalEncoder\n",
        "from sklearn.impute import SimpleImputer\n",
        "from sklearn.ensemble import RandomForestClassifier\n",
        "from sklearn.metrics import accuracy_score\n",
        "\n",
        "# 파이프라인을 만들어 봅시다.\n",
        "pipe = make_pipeline(\n",
        "    OrdinalEncoder(), \n",
        "    SimpleImputer(), \n",
        "    RandomForestClassifier(n_estimators=100, random_state=2, n_jobs=-1)\n",
        ")\n",
        "\n",
        "\n",
        "pipe.fit(X_train, y_train)\n",
        "y_pred = pipe.predict(X_val)\n",
        "print('검증 정확도: ', accuracy_score(y_val, y_pred))"
      ],
      "execution_count": 27,
      "outputs": [
        {
          "output_type": "stream",
          "name": "stdout",
          "text": [
            "검증 정확도:  0.8282528762898825\n"
          ]
        }
      ]
    },
    {
      "cell_type": "code",
      "metadata": {
        "id": "_ccJNURTO3LV"
      },
      "source": [
        ""
      ],
      "execution_count": 66,
      "outputs": []
    },
    {
      "cell_type": "code",
      "metadata": {
        "colab": {
          "base_uri": "https://localhost:8080/"
        },
        "id": "_EEfHVppRyyx",
        "outputId": "43c9a7eb-f8d0-40bf-e411-cd9e53e0c383"
      },
      "source": [
        "real_positives = TP + FN\n",
        "real_positives"
      ],
      "execution_count": 49,
      "outputs": [
        {
          "output_type": "execute_result",
          "data": {
            "text/plain": [
              "2015"
            ]
          },
          "metadata": {},
          "execution_count": 49
        }
      ]
    },
    {
      "cell_type": "code",
      "metadata": {
        "id": "O89MlVqVRy1H"
      },
      "source": [
        ""
      ],
      "execution_count": null,
      "outputs": []
    },
    {
      "cell_type": "code",
      "metadata": {
        "id": "45VyEogbRy24"
      },
      "source": [
        ""
      ],
      "execution_count": null,
      "outputs": []
    },
    {
      "cell_type": "code",
      "metadata": {
        "colab": {
          "base_uri": "https://localhost:8080/"
        },
        "id": "pE_h6RVYKKeo",
        "outputId": "63248a80-140e-4b8d-f208-ed5b359fc6af"
      },
      "source": [
        "from sklearn.metrics import classification_report\n",
        "print(classification_report(y_val, y_pred))"
      ],
      "execution_count": 23,
      "outputs": [
        {
          "output_type": "stream",
          "name": "stdout",
          "text": [
            "              precision    recall  f1-score   support\n",
            "\n",
            "           0       0.85      0.94      0.89      6416\n",
            "           1       0.72      0.46      0.56      2015\n",
            "\n",
            "    accuracy                           0.83      8431\n",
            "   macro avg       0.78      0.70      0.73      8431\n",
            "weighted avg       0.82      0.83      0.81      8431\n",
            "\n"
          ]
        }
      ]
    },
    {
      "cell_type": "code",
      "metadata": {
        "id": "337fsKX5KKco"
      },
      "source": [
        "def my_f1_score(precision, recall):\n",
        "  return 2.0 / (1/precision + 1/recall)"
      ],
      "execution_count": 7,
      "outputs": []
    },
    {
      "cell_type": "code",
      "metadata": {
        "colab": {
          "base_uri": "https://localhost:8080/"
        },
        "id": "2t49ni7PPlFJ",
        "outputId": "f5f57415-18d3-4d2f-ebf5-6e32abd73d3c"
      },
      "source": [
        "precision = 0.85\n",
        "recall = 0.94\n",
        "\n",
        "print('f1 score: ', my_f1_score(precision, recall))"
      ],
      "execution_count": 37,
      "outputs": [
        {
          "output_type": "stream",
          "name": "stdout",
          "text": [
            "f1 score:  0.8927374301675977\n"
          ]
        }
      ]
    },
    {
      "cell_type": "code",
      "metadata": {
        "id": "aFRqrYiHQWUa"
      },
      "source": [
        "def my_fbeta_score(precision, recall, beta=1.0):\n",
        "  return(1.0 + (beta**2)) * (precision * recall) / (((beta**2) * precision) + recall)"
      ],
      "execution_count": 41,
      "outputs": []
    },
    {
      "cell_type": "code",
      "metadata": {
        "colab": {
          "base_uri": "https://localhost:8080/"
        },
        "id": "SU5SZW2oKKi7",
        "outputId": "832ff2b7-ba2d-4b1a-c3ab-94969d157c63"
      },
      "source": [
        "precision = 0.85\n",
        "recall = 0.94\n",
        "beta = 2\n",
        "print('f1 beta score: ', my_fbeta_score(precision, recall, beta))"
      ],
      "execution_count": 43,
      "outputs": [
        {
          "output_type": "stream",
          "name": "stdout",
          "text": [
            "f1 beta score:  0.9205069124423962\n"
          ]
        }
      ]
    },
    {
      "cell_type": "markdown",
      "metadata": {
        "id": "aZr54uOfoeB_"
      },
      "source": [
        "### 2) 모델을 학습한 후 Confusion matrix를 그리고 해석하세요\n",
        "- 임계값을 조정한 후 confusion matrix를 그려보세요\n",
        "- **(객관식) 임계값을 증가시킬때 positive 범주에 대한 재현율의 변화 양상을 제출하세요.**\n",
        "    1. 증가\n",
        "    2. 감소\n",
        "    3. 변화가 없다\n"
      ]
    },
    {
      "cell_type": "code",
      "metadata": {
        "colab": {
          "base_uri": "https://localhost:8080/",
          "height": 351
        },
        "id": "B9sSfNBoPwhy",
        "outputId": "4fe934f1-2ef0-4483-b8d6-54ed12f382f5"
      },
      "source": [
        "from sklearn.metrics import plot_confusion_matrix\n",
        "import matplotlib.pyplot as plt\n",
        "\n",
        "fig, ax = plt.subplots()\n",
        "pcm = plot_confusion_matrix(pipe, X_val, y_val,\n",
        "                            cmap=plt.cm.Blues,\n",
        "                            ax=ax);\n",
        "plt.title(f'Confusion matrix, n = {len(y_val)}', fontsize=15)\n",
        "plt.show()"
      ],
      "execution_count": 67,
      "outputs": [
        {
          "output_type": "stream",
          "name": "stderr",
          "text": [
            "/usr/local/lib/python3.7/dist-packages/sklearn/utils/deprecation.py:87: FutureWarning: Function plot_confusion_matrix is deprecated; Function `plot_confusion_matrix` is deprecated in 1.0 and will be removed in 1.2. Use one of the class methods: ConfusionMatrixDisplay.from_predictions or ConfusionMatrixDisplay.from_estimator.\n",
            "  warnings.warn(msg, category=FutureWarning)\n"
          ]
        },
        {
          "output_type": "display_data",
          "data": {
            "image/png": "[encoded data removed]",
            "text/plain": [
              "<Figure size 432x288 with 2 Axes>"
            ]
          },
          "metadata": {
            "needs_background": "light"
          }
        }
      ]
    },
    {
      "cell_type": "code",
      "metadata": {
        "colab": {
          "base_uri": "https://localhost:8080/",
          "height": 538,
          "referenced_widgets": [
            "30a58bc4da9349d59d153f28482ca237",
            "e14b108995f5420794cb5091d2804d09",
            "e2bafc68c7c14b0085e4bdff2584dcf7",
            "424a891e8bea4d9fbff3fb6a3b657787",
            "6d80187017a74f6ea9db13e7426ba094",
            "f64c0c58811a4a1ba191b34b8635ce0c",
            "8baa22b5bb214d8aa37545905a7f3cb1"
          ]
        },
        "id": "LUwaZNRzPwkc",
        "outputId": "1269a185-d58e-4bc3-d574-0dc8a2f19222"
      },
      "source": [
        "from ipywidgets import interact, fixed\n",
        "from sklearn.metrics import classification_report\n",
        "\n",
        "y_pred_proba = pipe.predict_proba(X_val)[:, 1] # 타겟이 1(True)일 확률\n",
        "def conf_matrix(y_true, y_pred_proba, threshold=0.5):\n",
        "  y_pred = y_pred_proba > threshold\n",
        "\n",
        "  fig, ax = plt.subplots()\n",
        "  pcm = plot_confusion_matrix(pipe, X_val, y_pred,\n",
        "                              cmap=plt.cm.Blues,\n",
        "                              ax=ax);\n",
        "  plt.title(f'Confusion matrix, n = {len(y_pred)}', fontsize=15)\n",
        "  plt.show()\n",
        "\n",
        "  print(classification_report(y_true, y_pred))\n",
        "\n",
        "\n",
        "interact(conf_matrix, y_true=fixed(y_val), y_pred_proba=fixed(y_pred_proba), threshold=(0, 1, 0.01));"
      ],
      "execution_count": 68,
      "outputs": [
        {
          "output_type": "display_data",
          "data": {
            "application/vnd.jupyter.widget-view+json": {
              "model_id": "30a58bc4da9349d59d153f28482ca237",
              "version_minor": 0,
              "version_major": 2
            },
            "text/plain": [
              "interactive(children=(FloatSlider(value=0.5, description='threshold', max=1.0, step=0.01), Output()), _dom_cla…"
            ]
          },
          "metadata": {}
        }
      ]
    },
    {
      "cell_type": "code",
      "metadata": {
        "id": "kuCdY96joeCA"
      },
      "source": [
        ""
      ],
      "execution_count": null,
      "outputs": []
    },
    {
      "cell_type": "markdown",
      "metadata": {
        "id": "BujyHquroeCA"
      },
      "source": [
        "### 3) 랜덤포레스트의 n_estimator를 1, 10, 100, 1000으로 바꾸어 가며 positive 범주의 predict_proba를 비교해 보세요\n",
        "- 하이퍼파라미터는 다음과 같이 설정합니다.\n",
        "    - n_jobs=-1, random_state=10, max_depth=None, oob_score=True\n",
        "- **(객관식) 확률값들의 분포의 변화를 아래 보기 중에서 고르세요**\n",
        "    1. 다양해진다\n",
        "    2. 변화가없다\n"
      ]
    },
    {
      "cell_type": "code",
      "metadata": {
        "colab": {
          "base_uri": "https://localhost:8080/",
          "height": 1000,
          "referenced_widgets": [
            "46b1dfc1098745859844e513439b9334",
            "98a9063cb9ab4583a8edea3582e8e076",
            "f6641c9461f947398f7a52040e5d7d0c",
            "e872f34aa1084603907f67be13e65df6",
            "a4d2f8c56a7f4182a1373d3dff0cbce0",
            "2d4ebf79eb8c42768c644f958912f8dc",
            "9e6c15fc4b264b04a63312759e16605d",
            "bc507dcf22124037a3e2a040e1ce8d46",
            "e91994be95254902a8cc2bd18586ae72",
            "6ea6507fe7d645eab7f67973e8adff92",
            "e156172dfff54240b3a467bbf86ba59a",
            "d2c82fb64ebc49f088049840166b381c",
            "e9251b16699e41c38f3fdfd3f3a3b486",
            "5e6f65202b9b459db09a30ada2a0a06a",
            "783ce9333ed24a558ec2e1c18032fb22",
            "945a209ebfb14c9c935acf75d07adb19",
            "c051be740832415085eccd26551dc1e6",
            "b087db1fab194be7a00ddadfbecc0393",
            "f115ead27f6b4043aa8bee18c62beb0e",
            "32c13919c95843258c88ef17f1e9fe74",
            "470660d4d6b44014850af0699a20cf11",
            "fd0b993434b74159b523195b460cb8d4",
            "ab085edbfd11412995d0684e20389ce1",
            "c6c5665f961f4ebeac3d24736116c181",
            "4758fc6b56db4a91b92f9299b7957ac6",
            "f016796ef1a64d0b8a7a92d1ec6319c2",
            "4df18c6c6fed423b81e331cc3753e9a4",
            "97aa13302cd94345a32d3278c4b4cfa0"
          ]
        },
        "id": "x4DaHt-voeCA",
        "outputId": "bb538524-959f-467c-f1b2-a63119a2c8b0"
      },
      "source": [
        "import seaborn as sns\n",
        "\n",
        "def ctrl_estimator(n_estimators=1):\n",
        "  pipe = make_pipeline(\n",
        "    OrdinalEncoder(), \n",
        "    SimpleImputer(), \n",
        "    RandomForestClassifier(n_estimators=n_estimators, n_jobs=-1, random_state=10, max_depth=None, oob_score=True)\n",
        "  )\n",
        "\n",
        "  pipe.fit(X_train, y_train)\n",
        "  \n",
        "  y_pred_proba = pipe.predict_proba(X_val)[:, 1]\n",
        "  sns.displot(y_pred_proba);\n",
        "        \n",
        "interact(ctrl_estimator, n_estimators=(1));\n",
        "interact(ctrl_estimator, n_estimators=(10));\n",
        "interact(ctrl_estimator, n_estimators=(100));\n",
        "interact(ctrl_estimator, n_estimators=(10000));\n"
      ],
      "execution_count": 75,
      "outputs": [
        {
          "output_type": "display_data",
          "data": {
            "application/vnd.jupyter.widget-view+json": {
              "model_id": "46b1dfc1098745859844e513439b9334",
              "version_minor": 0,
              "version_major": 2
            },
            "text/plain": [
              "interactive(children=(IntSlider(value=1, description='n_estimators', max=3, min=-1), Output()), _dom_classes=(…"
            ]
          },
          "metadata": {}
        },
        {
          "output_type": "display_data",
          "data": {
            "application/vnd.jupyter.widget-view+json": {
              "model_id": "bc507dcf22124037a3e2a040e1ce8d46",
              "version_minor": 0,
              "version_major": 2
            },
            "text/plain": [
              "interactive(children=(IntSlider(value=10, description='n_estimators', max=30, min=-10), Output()), _dom_classe…"
            ]
          },
          "metadata": {}
        },
        {
          "output_type": "display_data",
          "data": {
            "application/vnd.jupyter.widget-view+json": {
              "model_id": "783ce9333ed24a558ec2e1c18032fb22",
              "version_minor": 0,
              "version_major": 2
            },
            "text/plain": [
              "interactive(children=(IntSlider(value=100, description='n_estimators', max=300, min=-100), Output()), _dom_cla…"
            ]
          },
          "metadata": {}
        },
        {
          "output_type": "display_data",
          "data": {
            "application/vnd.jupyter.widget-view+json": {
              "model_id": "fd0b993434b74159b523195b460cb8d4",
              "version_minor": 0,
              "version_major": 2
            },
            "text/plain": [
              "interactive(children=(IntSlider(value=10000, description='n_estimators', max=30000, min=-10000), Output()), _d…"
            ]
          },
          "metadata": {}
        }
      ]
    },
    {
      "cell_type": "markdown",
      "metadata": {
        "id": "7K6kdhtFoeCB"
      },
      "source": [
        "### 4) 두개 이상의 다른 분류 모델을 학습시켜 ROC curve, AUC 점수를 비교하고 설명합니다.\n",
        "- 더 좋은 결과가 나오는 모델을 사용해서 캐글에 제출하세요\n",
        "- **캐글 Leaderboard의 본인 Score를 제출하세요.**"
      ]
    },
    {
      "cell_type": "code",
      "metadata": {
        "colab": {
          "base_uri": "https://localhost:8080/",
          "height": 423
        },
        "id": "KHNcT0DWoeCB",
        "outputId": "f6192130-d23c-4fad-c478-1d742498314e"
      },
      "source": [
        "from sklearn.metrics import roc_curve\n",
        "\n",
        "# roc_curve(타겟값, prob of 1)\n",
        "fpr, tpr, thresholds = roc_curve(y_val, y_pred_proba)\n",
        "\n",
        "roc = pd.DataFrame({\n",
        "    'FPR(Fall-out)': fpr, \n",
        "    'TPRate(Recall)': tpr, \n",
        "    'Threshold': thresholds\n",
        "})\n",
        "roc"
      ],
      "execution_count": 74,
      "outputs": [
        {
          "output_type": "execute_result",
          "data": {
            "text/html": [
              "<div>\n",
              "<style scoped>\n",
              "    .dataframe tbody tr th:only-of-type {\n",
              "        vertical-align: middle;\n",
              "    }\n",
              "\n",
              "    .dataframe tbody tr th {\n",
              "        vertical-align: top;\n",
              "    }\n",
              "\n",
              "    .dataframe thead th {\n",
              "        text-align: right;\n",
              "    }\n",
              "</style>\n",
              "<table border=\"1\" class=\"dataframe\">\n",
              "  <thead>\n",
              "    <tr style=\"text-align: right;\">\n",
              "      <th></th>\n",
              "      <th>FPR(Fall-out)</th>\n",
              "      <th>TPRate(Recall)</th>\n",
              "      <th>Threshold</th>\n",
              "    </tr>\n",
              "  </thead>\n",
              "  <tbody>\n",
              "    <tr>\n",
              "      <th>0</th>\n",
              "      <td>0.000000</td>\n",
              "      <td>0.000000</td>\n",
              "      <td>2.000000</td>\n",
              "    </tr>\n",
              "    <tr>\n",
              "      <th>1</th>\n",
              "      <td>0.000000</td>\n",
              "      <td>0.000993</td>\n",
              "      <td>1.000000</td>\n",
              "    </tr>\n",
              "    <tr>\n",
              "      <th>2</th>\n",
              "      <td>0.000000</td>\n",
              "      <td>0.002481</td>\n",
              "      <td>0.980000</td>\n",
              "    </tr>\n",
              "    <tr>\n",
              "      <th>3</th>\n",
              "      <td>0.000000</td>\n",
              "      <td>0.003474</td>\n",
              "      <td>0.974000</td>\n",
              "    </tr>\n",
              "    <tr>\n",
              "      <th>4</th>\n",
              "      <td>0.000000</td>\n",
              "      <td>0.003970</td>\n",
              "      <td>0.973333</td>\n",
              "    </tr>\n",
              "    <tr>\n",
              "      <th>...</th>\n",
              "      <td>...</td>\n",
              "      <td>...</td>\n",
              "      <td>...</td>\n",
              "    </tr>\n",
              "    <tr>\n",
              "      <th>346</th>\n",
              "      <td>0.910692</td>\n",
              "      <td>0.989578</td>\n",
              "      <td>0.023750</td>\n",
              "    </tr>\n",
              "    <tr>\n",
              "      <th>347</th>\n",
              "      <td>0.953398</td>\n",
              "      <td>0.994541</td>\n",
              "      <td>0.020000</td>\n",
              "    </tr>\n",
              "    <tr>\n",
              "      <th>348</th>\n",
              "      <td>0.953709</td>\n",
              "      <td>0.994541</td>\n",
              "      <td>0.015000</td>\n",
              "    </tr>\n",
              "    <tr>\n",
              "      <th>349</th>\n",
              "      <td>0.984882</td>\n",
              "      <td>0.997519</td>\n",
              "      <td>0.010000</td>\n",
              "    </tr>\n",
              "    <tr>\n",
              "      <th>350</th>\n",
              "      <td>1.000000</td>\n",
              "      <td>1.000000</td>\n",
              "      <td>0.000000</td>\n",
              "    </tr>\n",
              "  </tbody>\n",
              "</table>\n",
              "<p>351 rows × 3 columns</p>\n",
              "</div>"
            ],
            "text/plain": [
              "     FPR(Fall-out)  TPRate(Recall)  Threshold\n",
              "0         0.000000        0.000000   2.000000\n",
              "1         0.000000        0.000993   1.000000\n",
              "2         0.000000        0.002481   0.980000\n",
              "3         0.000000        0.003474   0.974000\n",
              "4         0.000000        0.003970   0.973333\n",
              "..             ...             ...        ...\n",
              "346       0.910692        0.989578   0.023750\n",
              "347       0.953398        0.994541   0.020000\n",
              "348       0.953709        0.994541   0.015000\n",
              "349       0.984882        0.997519   0.010000\n",
              "350       1.000000        1.000000   0.000000\n",
              "\n",
              "[351 rows x 3 columns]"
            ]
          },
          "metadata": {},
          "execution_count": 74
        }
      ]
    },
    {
      "cell_type": "code",
      "metadata": {
        "colab": {
          "base_uri": "https://localhost:8080/"
        },
        "id": "jXF0oVGGkbAX",
        "outputId": "8672a959-7562-4c59-eadb-597c9cad8726"
      },
      "source": [
        "# threshold 최대값의 인덱스, np.argmax()\n",
        "optimal_idx = np.argmax(tpr - fpr)\n",
        "optimal_threshold = thresholds[optimal_idx]\n",
        "\n",
        "print('idx:', optimal_idx, ', threshold:', optimal_threshold)"
      ],
      "execution_count": 76,
      "outputs": [
        {
          "output_type": "stream",
          "name": "stdout",
          "text": [
            "idx: 220 , threshold: 0.27899999999999997\n"
          ]
        }
      ]
    },
    {
      "cell_type": "code",
      "metadata": {
        "colab": {
          "base_uri": "https://localhost:8080/"
        },
        "id": "9aPYX8BDkbCu",
        "outputId": "3024de99-0a20-456b-a0b2-90d8377fc5ca"
      },
      "source": [
        "from sklearn.metrics import roc_auc_score\n",
        "auc_score = roc_auc_score(y_val, y_pred_proba)\n",
        "auc_score"
      ],
      "execution_count": 77,
      "outputs": [
        {
          "output_type": "execute_result",
          "data": {
            "text/plain": [
              "0.8313881471878617"
            ]
          },
          "metadata": {},
          "execution_count": 77
        }
      ]
    },
    {
      "cell_type": "code",
      "metadata": {
        "id": "sKFIADFFkpM_"
      },
      "source": [
        "\n",
        "# 최종 모델 학습 후 테스트 셋에 대한 예측 결과\n",
        "y_pred_proba = pipe.predict_proba(X_test)[:, 1] # 타겟이 1(True)일 확률 가져오기\n",
        "y_test_pred = y_pred_proba > optimal_threshold"
      ],
      "execution_count": 80,
      "outputs": []
    },
    {
      "cell_type": "code",
      "metadata": {
        "colab": {
          "base_uri": "https://localhost:8080/",
          "height": 206
        },
        "id": "mevPZSc7kpPY",
        "outputId": "07a145bd-a6dd-49c1-8cfd-e822ebf04f9f"
      },
      "source": [
        "df = {'Id':X_test.index, 'vacc_h1n1_f': y_test_pred}\n",
        "submission = pd.DataFrame(data = d)\n",
        "submission.head()"
      ],
      "execution_count": 82,
      "outputs": [
        {
          "output_type": "execute_result",
          "data": {
            "text/html": [
              "<div>\n",
              "<style scoped>\n",
              "    .dataframe tbody tr th:only-of-type {\n",
              "        vertical-align: middle;\n",
              "    }\n",
              "\n",
              "    .dataframe tbody tr th {\n",
              "        vertical-align: top;\n",
              "    }\n",
              "\n",
              "    .dataframe thead th {\n",
              "        text-align: right;\n",
              "    }\n",
              "</style>\n",
              "<table border=\"1\" class=\"dataframe\">\n",
              "  <thead>\n",
              "    <tr style=\"text-align: right;\">\n",
              "      <th></th>\n",
              "      <th>Id</th>\n",
              "      <th>vacc_h1n1_f</th>\n",
              "    </tr>\n",
              "  </thead>\n",
              "  <tbody>\n",
              "    <tr>\n",
              "      <th>0</th>\n",
              "      <td>0</td>\n",
              "      <td>False</td>\n",
              "    </tr>\n",
              "    <tr>\n",
              "      <th>1</th>\n",
              "      <td>1</td>\n",
              "      <td>False</td>\n",
              "    </tr>\n",
              "    <tr>\n",
              "      <th>2</th>\n",
              "      <td>2</td>\n",
              "      <td>False</td>\n",
              "    </tr>\n",
              "    <tr>\n",
              "      <th>3</th>\n",
              "      <td>3</td>\n",
              "      <td>False</td>\n",
              "    </tr>\n",
              "    <tr>\n",
              "      <th>4</th>\n",
              "      <td>4</td>\n",
              "      <td>False</td>\n",
              "    </tr>\n",
              "  </tbody>\n",
              "</table>\n",
              "</div>"
            ],
            "text/plain": [
              "   Id  vacc_h1n1_f\n",
              "0   0        False\n",
              "1   1        False\n",
              "2   2        False\n",
              "3   3        False\n",
              "4   4        False"
            ]
          },
          "metadata": {},
          "execution_count": 82
        }
      ]
    },
    {
      "cell_type": "code",
      "metadata": {
        "id": "3JE5Py-_kpRc"
      },
      "source": [
        "submission.to_csv('submission.csv', index=False)"
      ],
      "execution_count": 86,
      "outputs": []
    },
    {
      "cell_type": "markdown",
      "metadata": {
        "id": "7yP6jxgAoeCC"
      },
      "source": [
        "## 🔥 도전과제"
      ]
    },
    {
      "cell_type": "markdown",
      "metadata": {
        "id": "SvhXkyWcoeCC"
      },
      "source": [
        "### 5) 각 평가지표에 대해 결과를 최대한 분석하고 무엇이 부족한지, 어떤 방향으로 성능을 높여야 하는지 논하세요."
      ]
    },
    {
      "cell_type": "code",
      "metadata": {
        "id": "pl3sH3ZUoeCC"
      },
      "source": [
        "### 이곳에서 과제를 진행해 주세요 ### "
      ],
      "execution_count": null,
      "outputs": []
    }
  ]
}