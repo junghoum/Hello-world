{
  "nbformat": 4,
  "nbformat_minor": 0,
  "metadata": {
    "colab": {
      "name": "Untitled32.ipynb",
      "provenance": [],
      "collapsed_sections": [],
      "authorship_tag": "ABX9TyO4tv+CtpJQj+Z+2XXs7FnF",
      "include_colab_link": true
    },
    "kernelspec": {
      "name": "python3",
      "display_name": "Python 3"
    },
    "language_info": {
      "name": "python"
    }
  },
  "cells": [
    {
      "cell_type": "markdown",
      "metadata": {
        "id": "view-in-github",
        "colab_type": "text"
      },
      "source": [
        "<a href=\"https://colab.research.google.com/github/junghoum/Hello-world/blob/main/Untitled32.ipynb\" target=\"_parent\"><img src=\"https://colab.research.google.com/assets/colab-badge.svg\" alt=\"Open In Colab\"/></a>"
      ]
    },
    {
      "cell_type": "markdown",
      "source": [
        "1. 관심 데이터 선정\n",
        "  취직하고 싶은 회사와 그 회사의 연구/사업 내용을 알아보고 해당 회사에서 풀고자 하는 문제와 비슷한 데이터를 찾아보기.\n",
        "  ex) 카카오나 네이버와 같은 서비스를 목표로 한다면 음성 인식, 음성 합성에 사용할 수 있는 데이터 셋을 찾아보아야 한다.\n",
        "  ex) 네이버 웹툰 등을 목표로 한다면, GAN등의 생성모델과 보안 관련 딥러닝 기술을 적용해 볼 수 있는 데이터 셋을 찾는 게 좋다.\n",
        "\n",
        "2. 데이터 선정 이유\n",
        "  선정한 데이터와 그 데이터를 가공하면서 얻은 지식과 경험을 \"어떤 회사에서 높이 살 수 있을까?\", \n",
        "  \"어디 회사의 어느부분에 적용해 볼 수 있을까\"를 생각해서 기록하여 보기\n",
        "\n",
        "3. 데이터를 이용한 가설 수립\n",
        "  데이터를 선정함과 동시에 데이터를 통해서 내가 무엇을 해볼 수 있을 지 가설을 세우는 것이 중요\n",
        "    (1) 쓸모있는 가설, 즉 이유가 명확한 가설이어야 한다.(이를 심화시켜서 진짜 필요한 기술을 찾아보기)\n",
        "\n",
        "4. 데이터 전처리\n",
        "  데이터를 가공하는 것인데 바로 모델에 적용할 수 있는 경우도 있지만 아닌 경우에는 적용할 수 있도록 전처리를 하는 것\n",
        "  ex) 데이터의 정규화, 노이즈 및 이상치 제거, 타켓 레이블 생성 혹은 선택 등\n",
        "\n",
        "5. 딥러닝 방식 적용\n",
        "  적용에 앞서 내가 가진 문제를 굳이 딥러닝을 적용해야 하는 지 확인할 필요가 있다.\n",
        "\n",
        "6. Chance Level 이 넘는지 확인\n",
        "  이진 분류는 Chance level이 0.5(50%)인 문제이다. 그런데 선택한 문제가 MNIST와 같은 10개 클래스를 가진 다중 분류라면 Chance level이 0.1(10%)가 된다.\n",
        "  선택한 문제가 딥러닝을 적용한 결과가 Chance level 보다 월등하게 좋은 성능을 기록하는지 체크하기, 그렇지 않다면 데이터를 다시 들여다 보거나 모델을 다시 뜯어보면서 내 가설이 틀렸을 수 있다는 것을 확인하여 보기.\n",
        "\n",
        "7. 모델 검증\n",
        "  모델을 만들어서 어느정도 성능이 나왔다면, CV를 통해서 일반화될 가능성이 있는 지 확인하기.\n",
        "  K-Fold 교차 검증을 통해 일반화가 어느정도 되는지 알 수 있다.\n",
        "  더불어 하이퍼파라미터를 변경하면서 최적화까지 해 볼 수 있다.\n",
        "  \n",
        "8. (Option) Requirements.txt 제작 및 재구현\n",
        "  코랩 뿐만 아니라 자신이 만든 딥러닝 모델을 저장하고 새로운 환경에서도 바로 동작할 수 있도록 Requirements.txt를 만들기\n",
        "  만든 Requirements.txt 를 이용하여 가상환경 혹은 독립된 PC에서 같은 프로젝트를 진행하여 보기\n",
        "\n",
        "\n",
        "\n",
        "--- 제출물은 1. 발표 영상(5-10), 코드가 포함된 .ipynb파일, (제작하였을 경우)PPT 혹은 Keynote파일\n",
        "  제출 할때는 위 2~3의 파일을 압축하여 AI_08_이름.zip  형태로 제출\n",
        "\n",
        "\n",
        "--- 채점 기준\n",
        "  1. 풀고자 하는 문제를 잘 설정하였는가?\n",
        "  2. 문제를 풀기 위한 모델 선택을 알맞게 설정하였는가?\n",
        "  3. 모델 학습을 제대로 진행하였는가?\n",
        "  4. 오나성하지 못한 부분에 대하여 \"한계점과 추후 해결 방안을 알맞게 작성하였는가?\"\n",
        "  5. 영상 길이는 5~10분 이내로 작성하기\n",
        "  \n",
        "\n",
        "** 파인튜닝을 전이학습방법으로 학습해보기?**"
      ],
      "metadata": {
        "id": "wtHYgQSeHKVD"
      }
    },
    {
      "cell_type": "code",
      "source": [
        ""
      ],
      "metadata": {
        "id": "CLGXeCgQd_gH"
      },
      "execution_count": null,
      "outputs": []
    }
  ]
}